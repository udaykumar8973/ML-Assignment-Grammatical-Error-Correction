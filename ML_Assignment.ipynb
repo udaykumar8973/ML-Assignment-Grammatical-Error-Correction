{
 "cells": [
  {
   "cell_type": "code",
   "execution_count": 2,
   "metadata": {},
   "outputs": [],
   "source": [
    "import matplotlib.pyplot as plt\n",
    "import numpy as np\n",
    "import pandas as pd\n",
    "import sklearn.linear_model\n",
    "import seaborn as sns"
   ]
  },
  {
   "cell_type": "code",
   "execution_count": 3,
   "metadata": {},
   "outputs": [
    {
     "name": "stdout",
     "output_type": "stream",
     "text": [
      "   SL NO                                        Description\n",
      "0      1  “She see Tom is catched by policeman in park a...\n",
      "1      2                 “It is not of only your business.”\n",
      "2      3                                  How is you doing?\n",
      "3      4                          We is on the supermarket.\n",
      "4      5                Hello you be in school for lecture.\n"
     ]
    }
   ],
   "source": [
    "# Load the data\n",
    "df = pd.read_excel(\"sentences.xlsx\")\n",
    "print(df)"
   ]
  },
  {
   "cell_type": "code",
   "execution_count": 5,
   "metadata": {},
   "outputs": [
    {
     "data": {
      "text/plain": [
       "(5, 2)"
      ]
     },
     "execution_count": 5,
     "metadata": {},
     "output_type": "execute_result"
    }
   ],
   "source": [
    "df.shape"
   ]
  },
  {
   "cell_type": "code",
   "execution_count": 6,
   "metadata": {},
   "outputs": [],
   "source": [
    "# ckeck if any null value is present\n",
    "df.isnull().values.any()\n",
    "\n",
    "df.dropna(inplace=True)"
   ]
  },
  {
   "cell_type": "code",
   "execution_count": 7,
   "metadata": {},
   "outputs": [],
   "source": [
    "# ckeck if any duplicate value is present\n",
    "df.duplicated().values.any()\n",
    "\n",
    "df.drop_duplicates(inplace=True)\n",
    "df.reset_index(inplace=True,drop=True)"
   ]
  },
  {
   "cell_type": "code",
   "execution_count": 8,
   "metadata": {},
   "outputs": [
    {
     "data": {
      "image/png": "[encoded data removed]",
      "text/plain": [
       "<Figure size 432x288 with 1 Axes>"
      ]
     },
     "metadata": {
      "needs_background": "light"
     },
     "output_type": "display_data"
    }
   ],
   "source": [
    "corr_length = df[\"Description\"].str.split().apply(len)\n",
    "corr_length = list(corr_length)\n",
    "sns.kdeplot(corr_length)\n",
    "plt.xlabel(\"length of sentences\")\n",
    "plt.ylabel(\"Frequency\")\n",
    "plt.title(\"PDF of length of correct sentences\")\n",
    "plt.show()"
   ]
  },
  {
   "cell_type": "code",
   "execution_count": null,
   "metadata": {},
   "outputs": [],
   "source": [
    "# Imports\n",
    "from transformers import AutoTokenizer, AutoModelForSeq2SeqLM\n",
    "  \n",
    "# Load the tokenizer\n",
    "tokenizer = AutoTokenizer.from_pretrained(\"# Imports\n",
    "from transformers import AutoTokenizer, AutoModelForSeq2SeqLM\n",
    "  \n",
    "# Load the tokenizer\n",
    "tokenizer = AutoTokenizer.from_pretrained(\"grammar_error_correcter_v1\")\n",
    "\n",
    "# Load the model\n",
    "model = AutoModelForSeq2SeqLM.from_pretrained(\"grammar_error_correcter_v1\")\n",
    "\n",
    "# Incorrect phrases\n",
    "phrases = [\n",
    "  'How is you doing?',\n",
    "  'We is on the supermarket.',\n",
    "  'Hello you be in school for lecture.'\n",
    "]\n",
    "\n",
    "# Tokenize text\n",
    "tokenized_phrases = tokenizer(phrases, return_tensors='pt', padding=True)\n",
    "\n",
    "# Perform corrections and decode the output\n",
    "corrections = model.generate(**tokenized_phrases)\n",
    "corrections = tokenizer.batch_decode(corrections, skip_special_tokens=True)\n",
    "\n",
    "# Print correction\n",
    "for i in range(len(corrections)):\n",
    "  original, correction = phrases[i], corrections[i]\n",
    "  print(f'[Phrase] {original}')\n",
    "  print(f'[Suggested phrase] {correction}')\n",
    "  print('~'*100)\")\n",
    "\n",
    "# Load the model\n",
    "model = AutoModelForSeq2SeqLM.from_pretrained(\"grammar_error_correcter_v1\")\n",
    "\n",
    "# Incorrect phrases\n",
    "phrases = [\n",
    "  'How is you doing?',\n",
    "  'We is on the supermarket.',\n",
    "  'Hello you be in school for lecture.'\n",
    "]\n",
    "\n",
    "# Tokenize text\n",
    "tokenized_phrases = tokenizer(phrases, return_tensors='pt', padding=True)\n",
    "\n",
    "# Perform corrections and decode the output\n",
    "corrections = model.generate(**tokenized_phrases)\n",
    "corrections = tokenizer.batch_decode(corrections, skip_special_tokens=True)\n",
    "\n",
    "# Print correction\n",
    "for i in range(len(corrections)):\n",
    "  original, correction = phrases[i], corrections[i]\n",
    "  print(f'[Phrase] {original}')\n",
    "  print(f'[Suggested phrase] {correction}')\n",
    "  print('~'*100)"
   ]
  }
 ],
 "metadata": {
  "kernelspec": {
   "display_name": "Python 3",
   "language": "python",
   "name": "python3"
  },
  "language_info": {
   "codemirror_mode": {
    "name": "ipython",
    "version": 3
   },
   "file_extension": ".py",
   "mimetype": "text/x-python",
   "name": "python",
   "nbconvert_exporter": "python",
   "pygments_lexer": "ipython3",
   "version": "3.7.4"
  }
 },
 "nbformat": 4,
 "nbformat_minor": 2
}
